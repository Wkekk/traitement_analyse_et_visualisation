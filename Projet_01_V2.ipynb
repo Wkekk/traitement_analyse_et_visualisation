{
 "cells": [
  {
   "cell_type": "code",
   "execution_count": 1,
   "metadata": {},
   "outputs": [],
   "source": [
    "#2 - Sources de données : Manipulation\n",
    "\n",
    "import pandas \n",
    "import numpy \n",
    "import scipy \n",
    "import matplotlib.pyplot as plt\n"
   ]
  },
  {
   "cell_type": "code",
   "execution_count": 2,
   "metadata": {},
   "outputs": [
    {
     "name": "stdout",
     "output_type": "stream",
     "text": [
      "     longueur_sepal  largeur_sepal  longueur_petal  largeur_petal     espece\n",
      "0               5.1            3.5             1.4            0.2     setosa\n",
      "1               4.9            3.0             1.4            0.2     setosa\n",
      "2               4.7            3.2             1.3            0.2     setosa\n",
      "3               4.6            3.1             1.5            0.2     setosa\n",
      "4               5.0            3.6             1.4            0.2     setosa\n",
      "..              ...            ...             ...            ...        ...\n",
      "145             6.7            3.0             5.2            2.3  virginica\n",
      "146             6.3            2.5             5.0            1.9  virginica\n",
      "147             6.5            3.0             5.2            2.0  virginica\n",
      "148             6.2            3.4             5.4            2.3  virginica\n",
      "149             5.9            3.0             5.1            1.8  virginica\n",
      "\n",
      "[150 rows x 5 columns]\n"
     ]
    }
   ],
   "source": [
    "iris=pandas.read_csv(\"iris.csv\")\n",
    "print(iris)"
   ]
  },
  {
   "cell_type": "code",
   "execution_count": 3,
   "metadata": {
    "scrolled": true
   },
   "outputs": [
    {
     "name": "stdout",
     "output_type": "stream",
     "text": [
      "    Montant_du_capitale  Temps\n",
      "0                     1      5\n",
      "1                    12      6\n",
      "2                    13      7\n",
      "3                     2      8\n",
      "4                     3      9\n",
      "5                     0     10\n",
      "6                     1     11\n",
      "7                     6     12\n",
      "8                     7     13\n",
      "9                     4     14\n",
      "10                    5     15\n",
      "11                   26     16\n",
      "12                   27     17\n",
      "13                   24     18\n",
      "14                   25     19\n",
      "15                   30     20\n",
      "16                   31     21\n",
      "17                   28     22\n",
      "18                   29     23\n",
      "19                   18     24\n",
      "20                   19     25\n",
      "21                   16     26\n",
      "22                   17     27\n",
      "23                   22     28\n",
      "24                   23     29\n",
      "25                   20     30\n",
      "26                   21     31\n",
      "27                   42     32\n",
      "28                   43     33\n",
      "29                   40     34\n",
      "30                   41     35\n",
      "31                   46     36\n",
      "32                   47     37\n",
      "33                   44     38\n",
      "34                   45     39\n",
      "35                   34     40\n",
      "36                   35     41\n",
      "37                   32     42\n",
      "38                   33     43\n",
      "39                   38     44\n",
      "40                   39     45\n",
      "41                   36     46\n",
      "42                   37     47\n",
      "43                   58     48\n",
      "44                   59     49\n"
     ]
    }
   ],
   "source": [
    "montant_temps=pandas.read_csv(\"Montant_Temps.csv\")\n",
    "print(montant_temps)"
   ]
  },
  {
   "cell_type": "code",
   "execution_count": 4,
   "metadata": {},
   "outputs": [
    {
     "name": "stdout",
     "output_type": "stream",
     "text": [
      "           Nom  Age  Rating\n",
      "0      ANATOLE   55    4.53\n",
      "1     Vincent    59    3.54\n",
      "2      Brenda    55    3.98\n",
      "3    Philippe    53    5.59\n",
      "4      Michel    30    3.50\n",
      "5     Tillier    59    4.90\n",
      "6   Blanchard    53    3.80\n",
      "7        perez   34    3.78\n",
      "8        théo    40    5.98\n",
      "9     cyprien    30    4.80\n",
      "10   manuella    53    4.30\n",
      "11   LEGGERET    49    3.95\n",
      "12       perez   34    3.78\n",
      "13    sestre     40    5.98\n",
      "14      Fazal    30    4.80\n",
      "15      Donald   53    4.30\n",
      "16     Estelle   49    3.95\n"
     ]
    }
   ],
   "source": [
    "tendance_centrale=pandas.read_csv(\"tendance_centrale.csv\")\n",
    "print(tendance_centrale)"
   ]
  },
  {
   "cell_type": "code",
   "execution_count": 5,
   "metadata": {},
   "outputs": [
    {
     "name": "stdout",
     "output_type": "stream",
     "text": [
      "      ID_NOM  Niv_Etude_Bac  age contrat_de_travail  Salaire  \\\n",
      "0       jean            3.0   45                CDI    40000   \n",
      "1    VANESSA            5.0   28                CDI    30500   \n",
      "2   TARCISSE            0.0   55                CDI    28000   \n",
      "3    TIBAULT            4.0   23                CDD    15000   \n",
      "4      GILES            0.0   33                CDD    27000   \n",
      "5      ETHAN            0.0   41            INTERIM    40000   \n",
      "6    LILIANE           -1.0   29                CDI    50000   \n",
      "7      GLODI           -3.0   24            INTERIM    29000   \n",
      "8   FLORIANE            NaN   26                CDI    44000   \n",
      "9      MARIE            3.0   37                CDI    45800   \n",
      "10   BAKAMBU            2.0   40                CDI    60000   \n",
      "11     FATOU            0.0   38                CDD    26000   \n",
      "12      WUAN           -3.0   39            INTERIM    29000   \n",
      "13      HUGO            0.0   31                CDI    43000   \n",
      "14    JOSEPH            1.0   70                CDD    45000   \n",
      "15     DIANE            0.0   42        ENTRPRENEUR    70000   \n",
      "16      FENG            8.0   46                CDI    80000   \n",
      "17   FRICHET            3.0   23                CDI   100000   \n",
      "18  HOLLANDE            4.0   32                CDI    21000   \n",
      "\n",
      "    dette_anterieure etat_civile  apport  enfant_a_Charge Solvable  \n",
      "0               4000           M     0.3              3.0      OUI  \n",
      "1               1320           M     0.1              0.0      OUI  \n",
      "2              40000           C     0.0              0.0      NON  \n",
      "3                  0           M     0.1              NaN      OUI  \n",
      "4               3000           C     0.1              2.0      NON  \n",
      "5               1000           M     0.0              4.0      NON  \n",
      "6               3000           C     0.0              0.0      NON  \n",
      "7               5000           C     0.0              0.0      NON  \n",
      "8                  0           M     0.1              1.0      OUI  \n",
      "9               2000           M     0.2              2.0      OUI  \n",
      "10              1500           M     0.3              3.0      OUI  \n",
      "11              8000           C     0.4              0.0      NON  \n",
      "12              4900           M     0.0              1.0      NON  \n",
      "13            100000           M     0.2              2.0      NON  \n",
      "14             17000           C     0.3              0.0      NON  \n",
      "15             26000           M     0.2              0.0      NON  \n",
      "16              8000           M     0.0              3.0      OUI  \n",
      "17                 0           M     0.3              1.0      OUI  \n",
      "18              1200           M     0.1              2.0      OUI  \n"
     ]
    }
   ],
   "source": [
    "credit_immo_csv=pandas.read_csv(\"credit_immo.csv\")\n",
    "print(credit_immo_csv)"
   ]
  },
  {
   "cell_type": "code",
   "execution_count": 6,
   "metadata": {},
   "outputs": [
    {
     "name": "stdout",
     "output_type": "stream",
     "text": [
      "    Salaire    ID_NOM  dette_anterieure  apport contrat_de_travail  \\\n",
      "0     40000      jean              4000     0.3                CDI   \n",
      "1     30500   VANESSA              1320     0.1                CDI   \n",
      "2     28000  TARCISSE             40000     0.0                CDI   \n",
      "3     15000   TIBAULT                 0     0.1                CDD   \n",
      "4     27000     GILES              3000     0.1                CDD   \n",
      "5     40000     ETHAN              1000     0.0            INTERIM   \n",
      "6     50000   LILIANE              3000     0.0                CDI   \n",
      "7     29000     GLODI              5000     0.0            INTERIM   \n",
      "8     44000  FLORIANE                 0     0.1                CDI   \n",
      "9     45800     MARIE              2000     0.2                CDI   \n",
      "10    60000   BAKAMBU              1500     0.3                CDI   \n",
      "11    26000     FATOU              8000     0.4                CDD   \n",
      "12    29000      WUAN              4900     0.0            INTERIM   \n",
      "13    43000      HUGO            100000     0.2                CDI   \n",
      "14    45000    JOSEPH             17000     0.3                CDD   \n",
      "15    70000     DIANE             26000     0.2        ENTRPRENEUR   \n",
      "16    80000      FENG              8000     0.0                CDI   \n",
      "17   100000   FRICHET                 0     0.3                CDI   \n",
      "18    21000  HOLLANDE              1200     0.1                CDI   \n",
      "\n",
      "   enfant_a_Charge etat_civile Solvable  age Niv_Etude_Bac  \n",
      "0                3           M      OUI   45             3  \n",
      "1                0           M      OUI   28             5  \n",
      "2                0           C      NON   55             0  \n",
      "3                            M      OUI   23             4  \n",
      "4                2           C      NON   33             0  \n",
      "5                4           M      NON   41             0  \n",
      "6                0           C      NON   29            -1  \n",
      "7                0           C      NON   24            -3  \n",
      "8                1           M      OUI   26                \n",
      "9                2           M      OUI   37             3  \n",
      "10               3           M      OUI   40             2  \n",
      "11               0           C      NON   38             0  \n",
      "12               1           M      NON   39            -3  \n",
      "13               2           M      NON   31             0  \n",
      "14               0           C      NON   70             1  \n",
      "15               0           M      NON   42             0  \n",
      "16               3           M      OUI   46             8  \n",
      "17               1           M      OUI   23             3  \n",
      "18               2           M      OUI   32             4  \n"
     ]
    }
   ],
   "source": [
    "credit_immo_json=pandas.read_json(\"credit_immo.json\")\n",
    "print(credit_immo_json)"
   ]
  },
  {
   "cell_type": "code",
   "execution_count": 7,
   "metadata": {},
   "outputs": [
    {
     "name": "stdout",
     "output_type": "stream",
     "text": [
      "      ID_NOM  Niv_Etude_Bac  age contrat_de_travail  Salaire  \\\n",
      "0       jean            3.0   45                CDI    40000   \n",
      "1    VANESSA            5.0   28                CDI    30500   \n",
      "2   TARCISSE            0.0   55                CDI    28000   \n",
      "3    TIBAULT            4.0   23                CDD    15000   \n",
      "4      GILES            0.0   33                CDD    27000   \n",
      "5      ETHAN            0.0   41            INTERIM    40000   \n",
      "6    LILIANE           -1.0   29                CDI    50000   \n",
      "7      GLODI           -3.0   24            INTERIM    29000   \n",
      "8   FLORIANE            NaN   26                CDI    44000   \n",
      "9      MARIE            3.0   37                CDI    45800   \n",
      "10   BAKAMBU            2.0   40                CDI    60000   \n",
      "11     FATOU            0.0   38                CDD    26000   \n",
      "12      WUAN           -3.0   39            INTERIM    29000   \n",
      "13      HUGO            0.0   31                CDI    43000   \n",
      "14    JOSEPH            1.0   70                CDD    45000   \n",
      "15     DIANE            0.0   42        ENTRPRENEUR    70000   \n",
      "16      FENG            8.0   46                CDI    80000   \n",
      "17   FRICHET            3.0   23                CDI   100000   \n",
      "18  HOLLANDE            4.0   32                CDI    21000   \n",
      "\n",
      "    dette_anterieure etat_civile  apport  enfant_a_Charge Solvable  \n",
      "0               4000           M     0.3              3.0      OUI  \n",
      "1               1320           M     0.1              0.0      OUI  \n",
      "2              40000           C     0.0              0.0      NON  \n",
      "3                  0           M     0.1              NaN      OUI  \n",
      "4               3000           C     0.1              2.0      NON  \n",
      "5               1000           M     0.0              4.0      NON  \n",
      "6               3000           C     0.0              0.0      NON  \n",
      "7               5000           C     0.0              0.0      NON  \n",
      "8                  0           M     0.1              1.0      OUI  \n",
      "9               2000           M     0.2              2.0      OUI  \n",
      "10              1500           M     0.3              3.0      OUI  \n",
      "11              8000           C     0.4              0.0      NON  \n",
      "12              4900           M     0.0              1.0      NON  \n",
      "13            100000           M     0.2              2.0      NON  \n",
      "14             17000           C     0.3              0.0      NON  \n",
      "15             26000           M     0.2              0.0      NON  \n",
      "16              8000           M     0.0              3.0      OUI  \n",
      "17                 0           M     0.3              1.0      OUI  \n",
      "18              1200           M     0.1              2.0      OUI  \n"
     ]
    }
   ],
   "source": [
    "credit_immo_excel=pandas.read_excel(\"credit_immo.xls\")\n",
    "print(credit_immo_excel)"
   ]
  },
  {
   "cell_type": "code",
   "execution_count": 8,
   "metadata": {},
   "outputs": [
    {
     "data": {
      "text/html": [
       "<div>\n",
       "<style scoped>\n",
       "    .dataframe tbody tr th:only-of-type {\n",
       "        vertical-align: middle;\n",
       "    }\n",
       "\n",
       "    .dataframe tbody tr th {\n",
       "        vertical-align: top;\n",
       "    }\n",
       "\n",
       "    .dataframe thead th {\n",
       "        text-align: right;\n",
       "    }\n",
       "</style>\n",
       "<table border=\"1\" class=\"dataframe\">\n",
       "  <thead>\n",
       "    <tr style=\"text-align: right;\">\n",
       "      <th></th>\n",
       "      <th>taux_de_ventes</th>\n",
       "      <th>croissance_vente</th>\n",
       "      <th>ratio_benefice</th>\n",
       "      <th>ratio_perte</th>\n",
       "    </tr>\n",
       "  </thead>\n",
       "  <tbody>\n",
       "    <tr>\n",
       "      <th>0</th>\n",
       "      <td>0.219916</td>\n",
       "      <td>0.313476</td>\n",
       "      <td>0.885333</td>\n",
       "      <td>-1.335310</td>\n",
       "    </tr>\n",
       "    <tr>\n",
       "      <th>1</th>\n",
       "      <td>0.765733</td>\n",
       "      <td>0.139377</td>\n",
       "      <td>-1.339910</td>\n",
       "      <td>0.486895</td>\n",
       "    </tr>\n",
       "    <tr>\n",
       "      <th>2</th>\n",
       "      <td>-1.511234</td>\n",
       "      <td>-1.792317</td>\n",
       "      <td>0.446577</td>\n",
       "      <td>2.121515</td>\n",
       "    </tr>\n",
       "    <tr>\n",
       "      <th>3</th>\n",
       "      <td>0.089064</td>\n",
       "      <td>0.877523</td>\n",
       "      <td>1.287562</td>\n",
       "      <td>0.403767</td>\n",
       "    </tr>\n",
       "    <tr>\n",
       "      <th>4</th>\n",
       "      <td>2.033639</td>\n",
       "      <td>0.207594</td>\n",
       "      <td>-1.299852</td>\n",
       "      <td>-1.502423</td>\n",
       "    </tr>\n",
       "    <tr>\n",
       "      <th>5</th>\n",
       "      <td>0.344459</td>\n",
       "      <td>1.127209</td>\n",
       "      <td>-1.233970</td>\n",
       "      <td>0.650369</td>\n",
       "    </tr>\n",
       "  </tbody>\n",
       "</table>\n",
       "</div>"
      ],
      "text/plain": [
       "   taux_de_ventes  croissance_vente  ratio_benefice  ratio_perte\n",
       "0        0.219916          0.313476        0.885333    -1.335310\n",
       "1        0.765733          0.139377       -1.339910     0.486895\n",
       "2       -1.511234         -1.792317        0.446577     2.121515\n",
       "3        0.089064          0.877523        1.287562     0.403767\n",
       "4        2.033639          0.207594       -1.299852    -1.502423\n",
       "5        0.344459          1.127209       -1.233970     0.650369"
      ]
     },
     "execution_count": 8,
     "metadata": {},
     "output_type": "execute_result"
    }
   ],
   "source": [
    "# Création de la base de données  formée de 6 lignes et 4 colonnes\n",
    "#Les colonnes: \"taux_de_ventes, croissance_vente, ratio_benefice, ratio_perte\"\n",
    "#random entier et 6 = lignes et 4 = colonnes\n",
    "donnees=numpy.random.randn(6,4)\n",
    "dataframe = pandas.DataFrame(donnees,columns = ['taux_de_ventes', 'croissance_vente', 'ratio_benefice', 'ratio_perte'])\n",
    "dataframe"
   ]
  },
  {
   "cell_type": "code",
   "execution_count": 9,
   "metadata": {},
   "outputs": [
    {
     "name": "stdout",
     "output_type": "stream",
     "text": [
      "   taux_de_ventes  croissance_vente  ratio_benefice  ratio_perte\n",
      "1        0.765733          0.139377       -1.339910     0.486895\n",
      "2       -1.511234         -1.792317        0.446577     2.121515\n",
      "3        0.089064          0.877523        1.287562     0.403767\n",
      "4        2.033639          0.207594       -1.299852    -1.502423\n",
      "5        0.344459          1.127209       -1.233970     0.650369\n",
      "6             NaN               NaN             NaN          NaN\n"
     ]
    }
   ],
   "source": [
    "index = [1, 2, 3, 4, 5, 6] #Modification de l'index\n",
    "\n",
    "dataframe=dataframe.reindex(index) #Ajout d'une ligne sans valeur\n",
    "print(dataframe)"
   ]
  },
  {
   "cell_type": "code",
   "execution_count": 10,
   "metadata": {},
   "outputs": [
    {
     "data": {
      "text/html": [
       "<div>\n",
       "<style scoped>\n",
       "    .dataframe tbody tr th:only-of-type {\n",
       "        vertical-align: middle;\n",
       "    }\n",
       "\n",
       "    .dataframe tbody tr th {\n",
       "        vertical-align: top;\n",
       "    }\n",
       "\n",
       "    .dataframe thead th {\n",
       "        text-align: right;\n",
       "    }\n",
       "</style>\n",
       "<table border=\"1\" class=\"dataframe\">\n",
       "  <thead>\n",
       "    <tr style=\"text-align: right;\">\n",
       "      <th></th>\n",
       "      <th>taux_de_ventes</th>\n",
       "      <th>croissance_vente</th>\n",
       "      <th>ratio_benefice</th>\n",
       "      <th>ratio_perte</th>\n",
       "    </tr>\n",
       "  </thead>\n",
       "  <tbody>\n",
       "    <tr>\n",
       "      <th>1</th>\n",
       "      <td>False</td>\n",
       "      <td>False</td>\n",
       "      <td>False</td>\n",
       "      <td>False</td>\n",
       "    </tr>\n",
       "    <tr>\n",
       "      <th>2</th>\n",
       "      <td>False</td>\n",
       "      <td>False</td>\n",
       "      <td>False</td>\n",
       "      <td>False</td>\n",
       "    </tr>\n",
       "    <tr>\n",
       "      <th>3</th>\n",
       "      <td>False</td>\n",
       "      <td>False</td>\n",
       "      <td>False</td>\n",
       "      <td>False</td>\n",
       "    </tr>\n",
       "    <tr>\n",
       "      <th>4</th>\n",
       "      <td>False</td>\n",
       "      <td>False</td>\n",
       "      <td>False</td>\n",
       "      <td>False</td>\n",
       "    </tr>\n",
       "    <tr>\n",
       "      <th>5</th>\n",
       "      <td>False</td>\n",
       "      <td>False</td>\n",
       "      <td>False</td>\n",
       "      <td>False</td>\n",
       "    </tr>\n",
       "    <tr>\n",
       "      <th>6</th>\n",
       "      <td>True</td>\n",
       "      <td>True</td>\n",
       "      <td>True</td>\n",
       "      <td>True</td>\n",
       "    </tr>\n",
       "  </tbody>\n",
       "</table>\n",
       "</div>"
      ],
      "text/plain": [
       "   taux_de_ventes  croissance_vente  ratio_benefice  ratio_perte\n",
       "1           False             False           False        False\n",
       "2           False             False           False        False\n",
       "3           False             False           False        False\n",
       "4           False             False           False        False\n",
       "5           False             False           False        False\n",
       "6            True              True            True         True"
      ]
     },
     "execution_count": 10,
     "metadata": {},
     "output_type": "execute_result"
    }
   ],
   "source": [
    "dataframe.isnull() #Vérification si présence de valeurs nulles (False si valeur ok // True si pas de valeur)"
   ]
  },
  {
   "cell_type": "code",
   "execution_count": 11,
   "metadata": {},
   "outputs": [
    {
     "data": {
      "text/html": [
       "<div>\n",
       "<style scoped>\n",
       "    .dataframe tbody tr th:only-of-type {\n",
       "        vertical-align: middle;\n",
       "    }\n",
       "\n",
       "    .dataframe tbody tr th {\n",
       "        vertical-align: top;\n",
       "    }\n",
       "\n",
       "    .dataframe thead th {\n",
       "        text-align: right;\n",
       "    }\n",
       "</style>\n",
       "<table border=\"1\" class=\"dataframe\">\n",
       "  <thead>\n",
       "    <tr style=\"text-align: right;\">\n",
       "      <th></th>\n",
       "      <th>taux_de_ventes</th>\n",
       "      <th>croissance_vente</th>\n",
       "      <th>ratio_benefice</th>\n",
       "      <th>ratio_perte</th>\n",
       "    </tr>\n",
       "  </thead>\n",
       "  <tbody>\n",
       "    <tr>\n",
       "      <th>1</th>\n",
       "      <td>0.765733</td>\n",
       "      <td>0.139377</td>\n",
       "      <td>-1.339910</td>\n",
       "      <td>0.486895</td>\n",
       "    </tr>\n",
       "    <tr>\n",
       "      <th>2</th>\n",
       "      <td>-1.511234</td>\n",
       "      <td>-1.792317</td>\n",
       "      <td>0.446577</td>\n",
       "      <td>2.121515</td>\n",
       "    </tr>\n",
       "    <tr>\n",
       "      <th>3</th>\n",
       "      <td>0.089064</td>\n",
       "      <td>0.877523</td>\n",
       "      <td>1.287562</td>\n",
       "      <td>0.403767</td>\n",
       "    </tr>\n",
       "    <tr>\n",
       "      <th>4</th>\n",
       "      <td>2.033639</td>\n",
       "      <td>0.207594</td>\n",
       "      <td>-1.299852</td>\n",
       "      <td>-1.502423</td>\n",
       "    </tr>\n",
       "    <tr>\n",
       "      <th>5</th>\n",
       "      <td>0.344459</td>\n",
       "      <td>1.127209</td>\n",
       "      <td>-1.233970</td>\n",
       "      <td>0.650369</td>\n",
       "    </tr>\n",
       "    <tr>\n",
       "      <th>6</th>\n",
       "      <td>0.000000</td>\n",
       "      <td>0.000000</td>\n",
       "      <td>0.000000</td>\n",
       "      <td>0.000000</td>\n",
       "    </tr>\n",
       "  </tbody>\n",
       "</table>\n",
       "</div>"
      ],
      "text/plain": [
       "   taux_de_ventes  croissance_vente  ratio_benefice  ratio_perte\n",
       "1        0.765733          0.139377       -1.339910     0.486895\n",
       "2       -1.511234         -1.792317        0.446577     2.121515\n",
       "3        0.089064          0.877523        1.287562     0.403767\n",
       "4        2.033639          0.207594       -1.299852    -1.502423\n",
       "5        0.344459          1.127209       -1.233970     0.650369\n",
       "6        0.000000          0.000000        0.000000     0.000000"
      ]
     },
     "execution_count": 11,
     "metadata": {},
     "output_type": "execute_result"
    }
   ],
   "source": [
    "#Remplacement des valeurs nulles par 0\n",
    "dataframe=dataframe.fillna(0)\n",
    "dataframe"
   ]
  },
  {
   "cell_type": "code",
   "execution_count": 12,
   "metadata": {},
   "outputs": [
    {
     "data": {
      "text/html": [
       "<div>\n",
       "<style scoped>\n",
       "    .dataframe tbody tr th:only-of-type {\n",
       "        vertical-align: middle;\n",
       "    }\n",
       "\n",
       "    .dataframe tbody tr th {\n",
       "        vertical-align: top;\n",
       "    }\n",
       "\n",
       "    .dataframe thead th {\n",
       "        text-align: right;\n",
       "    }\n",
       "</style>\n",
       "<table border=\"1\" class=\"dataframe\">\n",
       "  <thead>\n",
       "    <tr style=\"text-align: right;\">\n",
       "      <th></th>\n",
       "      <th>taux_de_ventes</th>\n",
       "      <th>croissance_vente</th>\n",
       "      <th>ratio_benefice</th>\n",
       "      <th>ratio_perte</th>\n",
       "    </tr>\n",
       "  </thead>\n",
       "  <tbody>\n",
       "    <tr>\n",
       "      <th>1</th>\n",
       "      <td>0.765733</td>\n",
       "      <td>0.139377</td>\n",
       "      <td>-1.339910</td>\n",
       "      <td>0.486895</td>\n",
       "    </tr>\n",
       "    <tr>\n",
       "      <th>2</th>\n",
       "      <td>-1.511234</td>\n",
       "      <td>-1.792317</td>\n",
       "      <td>0.446577</td>\n",
       "      <td>2.121515</td>\n",
       "    </tr>\n",
       "    <tr>\n",
       "      <th>3</th>\n",
       "      <td>0.089064</td>\n",
       "      <td>0.877523</td>\n",
       "      <td>1.287562</td>\n",
       "      <td>0.403767</td>\n",
       "    </tr>\n",
       "    <tr>\n",
       "      <th>4</th>\n",
       "      <td>2.033639</td>\n",
       "      <td>0.207594</td>\n",
       "      <td>-1.299852</td>\n",
       "      <td>-1.502423</td>\n",
       "    </tr>\n",
       "    <tr>\n",
       "      <th>5</th>\n",
       "      <td>0.344459</td>\n",
       "      <td>1.127209</td>\n",
       "      <td>-1.233970</td>\n",
       "      <td>0.650369</td>\n",
       "    </tr>\n",
       "  </tbody>\n",
       "</table>\n",
       "</div>"
      ],
      "text/plain": [
       "   taux_de_ventes  croissance_vente  ratio_benefice  ratio_perte\n",
       "1        0.765733          0.139377       -1.339910     0.486895\n",
       "2       -1.511234         -1.792317        0.446577     2.121515\n",
       "3        0.089064          0.877523        1.287562     0.403767\n",
       "4        2.033639          0.207594       -1.299852    -1.502423\n",
       "5        0.344459          1.127209       -1.233970     0.650369"
      ]
     },
     "execution_count": 12,
     "metadata": {},
     "output_type": "execute_result"
    }
   ],
   "source": [
    "#Supprimier les lignes full 0\n",
    "\n",
    "dataframe=dataframe.loc[~(dataframe==0).all(axis=1)]\n",
    "dataframe"
   ]
  },
  {
   "cell_type": "code",
   "execution_count": 13,
   "metadata": {},
   "outputs": [],
   "source": [
    "# 3 - Traitement des données"
   ]
  },
  {
   "cell_type": "code",
   "execution_count": 14,
   "metadata": {},
   "outputs": [
    {
     "name": "stdout",
     "output_type": "stream",
     "text": [
      "      ID_NOM  Niv_Etude_Bac  age contrat_de_travail  Salaire  \\\n",
      "0       jean            3.0   45                CDI    40000   \n",
      "1    VANESSA            5.0   28                CDI    30500   \n",
      "2   TARCISSE            0.0   55                CDI    28000   \n",
      "3    TIBAULT            4.0   23                CDD    15000   \n",
      "4      GILES            0.0   33                CDD    27000   \n",
      "5      ETHAN            0.0   41            INTERIM    40000   \n",
      "6    LILIANE           -1.0   29                CDI    50000   \n",
      "7      GLODI           -3.0   24            INTERIM    29000   \n",
      "8   FLORIANE            NaN   26                CDI    44000   \n",
      "9      MARIE            3.0   37                CDI    45800   \n",
      "10   BAKAMBU            2.0   40                CDI    60000   \n",
      "11     FATOU            0.0   38                CDD    26000   \n",
      "12      WUAN           -3.0   39            INTERIM    29000   \n",
      "13      HUGO            0.0   31                CDI    43000   \n",
      "14    JOSEPH            1.0   70                CDD    45000   \n",
      "15     DIANE            0.0   42        ENTRPRENEUR    70000   \n",
      "16      FENG            8.0   46                CDI    80000   \n",
      "17   FRICHET            3.0   23                CDI   100000   \n",
      "18  HOLLANDE            4.0   32                CDI    21000   \n",
      "\n",
      "    dette_anterieure etat_civile  apport  enfant_a_Charge Solvable  \n",
      "0               4000           M     0.3              3.0      OUI  \n",
      "1               1320           M     0.1              0.0      OUI  \n",
      "2              40000           C     0.0              0.0      NON  \n",
      "3                  0           M     0.1              NaN      OUI  \n",
      "4               3000           C     0.1              2.0      NON  \n",
      "5               1000           M     0.0              4.0      NON  \n",
      "6               3000           C     0.0              0.0      NON  \n",
      "7               5000           C     0.0              0.0      NON  \n",
      "8                  0           M     0.1              1.0      OUI  \n",
      "9               2000           M     0.2              2.0      OUI  \n",
      "10              1500           M     0.3              3.0      OUI  \n",
      "11              8000           C     0.4              0.0      NON  \n",
      "12              4900           M     0.0              1.0      NON  \n",
      "13            100000           M     0.2              2.0      NON  \n",
      "14             17000           C     0.3              0.0      NON  \n",
      "15             26000           M     0.2              0.0      NON  \n",
      "16              8000           M     0.0              3.0      OUI  \n",
      "17                 0           M     0.3              1.0      OUI  \n",
      "18              1200           M     0.1              2.0      OUI  \n"
     ]
    }
   ],
   "source": [
    "import pandas \n",
    "import numpy \n",
    "import scipy \n",
    "import matplotlib\n",
    "from sklearn.impute import SimpleImputer\n",
    "\n",
    "\n",
    "\n",
    "credit_immo=pandas.read_csv(\"credit_immo.csv\")\n",
    "print(credit_immo)"
   ]
  },
  {
   "cell_type": "code",
   "execution_count": 15,
   "metadata": {},
   "outputs": [
    {
     "name": "stdout",
     "output_type": "stream",
     "text": [
      "========================================\n",
      "     age  Niv_Etude_Bac   Salaire  dette_anterieure  apport  enfant_a_Charge\n",
      "0   45.0       3.000000   40000.0            4000.0     0.3         3.000000\n",
      "1   28.0       5.000000   30500.0            1320.0     0.1         0.000000\n",
      "2   55.0       0.000000   28000.0           40000.0     0.0         0.000000\n",
      "3   23.0       4.000000   15000.0               0.0     0.1         1.333333\n",
      "4   33.0       0.000000   27000.0            3000.0     0.1         2.000000\n",
      "5   41.0       0.000000   40000.0            1000.0     0.0         4.000000\n",
      "6   29.0      -1.000000   50000.0            3000.0     0.0         0.000000\n",
      "7   24.0      -3.000000   29000.0            5000.0     0.0         0.000000\n",
      "8   26.0       1.444444   44000.0               0.0     0.1         1.000000\n",
      "9   37.0       3.000000   45800.0            2000.0     0.2         2.000000\n",
      "10  40.0       2.000000   60000.0            1500.0     0.3         3.000000\n",
      "11  38.0       0.000000   26000.0            8000.0     0.4         0.000000\n",
      "12  39.0      -3.000000   29000.0            4900.0     0.0         1.000000\n",
      "13  31.0       0.000000   43000.0          100000.0     0.2         2.000000\n",
      "14  70.0       1.000000   45000.0           17000.0     0.3         0.000000\n",
      "15  42.0       0.000000   70000.0           26000.0     0.2         0.000000\n",
      "16  46.0       8.000000   80000.0            8000.0     0.0         3.000000\n",
      "17  23.0       3.000000  100000.0               0.0     0.3         1.000000\n",
      "18  32.0       4.000000   21000.0            1200.0     0.1         2.000000\n",
      "===================================================================\n",
      "    age  Niv_Etude_Bac  Salaire  dette_anterieure  apport  enfant_a_Charge\n",
      "0    45            3.0    40000              4000     0.3              3.0\n",
      "1    28            5.0    30500              1320     0.1              0.0\n",
      "2    55            0.0    28000             40000     0.0              0.0\n",
      "3    23            4.0    15000                 0     0.1              NaN\n",
      "4    33            0.0    27000              3000     0.1              2.0\n",
      "5    41            0.0    40000              1000     0.0              4.0\n",
      "6    29           -1.0    50000              3000     0.0              0.0\n",
      "7    24           -3.0    29000              5000     0.0              0.0\n",
      "8    26            NaN    44000                 0     0.1              1.0\n",
      "9    37            3.0    45800              2000     0.2              2.0\n",
      "10   40            2.0    60000              1500     0.3              3.0\n",
      "11   38            0.0    26000              8000     0.4              0.0\n",
      "12   39           -3.0    29000              4900     0.0              1.0\n",
      "13   31            0.0    43000            100000     0.2              2.0\n",
      "14   70            1.0    45000             17000     0.3              0.0\n",
      "15   42            0.0    70000             26000     0.2              0.0\n",
      "16   46            8.0    80000              8000     0.0              3.0\n",
      "17   23            3.0   100000                 0     0.3              1.0\n",
      "18   32            4.0    21000              1200     0.1              2.0\n"
     ]
    }
   ],
   "source": [
    "imp=SimpleImputer(missing_values=numpy.nan, strategy='mean', fill_value=str)\n",
    "credit_immo_V2=pandas.DataFrame(imp.fit_transform(credit_immo[[\"age\", \"Niv_Etude_Bac\", \"Salaire\", \"dette_anterieure\", \"apport\", \"enfant_a_Charge\"]]))\n",
    "credit_immo_V2.columns=[\"age\", \"Niv_Etude_Bac\", \"Salaire\", \"dette_anterieure\", \"apport\", \"enfant_a_Charge\"] #select que les colonnes avec des valeurs sinon ça ne marche pas avec les str\n",
    "credit_immo_V2.index=credit_immo.index\n",
    "\n",
    "print('========================================')\n",
    "print(credit_immo_V2) #affichage de la nouvelle base\n",
    "print('===================================================================')\n",
    "print(credit_immo[[\"age\", \"Niv_Etude_Bac\", \"Salaire\", \"dette_anterieure\", \"apport\", \"enfant_a_Charge\"]])\n"
   ]
  },
  {
   "cell_type": "code",
   "execution_count": 16,
   "metadata": {},
   "outputs": [
    {
     "data": {
      "text/html": [
       "<div>\n",
       "<style scoped>\n",
       "    .dataframe tbody tr th:only-of-type {\n",
       "        vertical-align: middle;\n",
       "    }\n",
       "\n",
       "    .dataframe tbody tr th {\n",
       "        vertical-align: top;\n",
       "    }\n",
       "\n",
       "    .dataframe thead th {\n",
       "        text-align: right;\n",
       "    }\n",
       "</style>\n",
       "<table border=\"1\" class=\"dataframe\">\n",
       "  <thead>\n",
       "    <tr style=\"text-align: right;\">\n",
       "      <th></th>\n",
       "      <th>ID_NOM</th>\n",
       "      <th>Niv_Etude_Bac</th>\n",
       "      <th>age</th>\n",
       "      <th>contrat_de_travail</th>\n",
       "      <th>Salaire</th>\n",
       "      <th>dette_anterieure</th>\n",
       "      <th>etat_civile</th>\n",
       "      <th>apport</th>\n",
       "      <th>enfant_a_Charge</th>\n",
       "      <th>Solvable</th>\n",
       "    </tr>\n",
       "  </thead>\n",
       "  <tbody>\n",
       "    <tr>\n",
       "      <th>0</th>\n",
       "      <td>18</td>\n",
       "      <td>5</td>\n",
       "      <td>14</td>\n",
       "      <td>1</td>\n",
       "      <td>7</td>\n",
       "      <td>7</td>\n",
       "      <td>1</td>\n",
       "      <td>3</td>\n",
       "      <td>3</td>\n",
       "      <td>1</td>\n",
       "    </tr>\n",
       "    <tr>\n",
       "      <th>1</th>\n",
       "      <td>16</td>\n",
       "      <td>7</td>\n",
       "      <td>3</td>\n",
       "      <td>1</td>\n",
       "      <td>6</td>\n",
       "      <td>3</td>\n",
       "      <td>1</td>\n",
       "      <td>1</td>\n",
       "      <td>0</td>\n",
       "      <td>1</td>\n",
       "    </tr>\n",
       "    <tr>\n",
       "      <th>2</th>\n",
       "      <td>14</td>\n",
       "      <td>2</td>\n",
       "      <td>16</td>\n",
       "      <td>1</td>\n",
       "      <td>4</td>\n",
       "      <td>13</td>\n",
       "      <td>0</td>\n",
       "      <td>0</td>\n",
       "      <td>0</td>\n",
       "      <td>0</td>\n",
       "    </tr>\n",
       "    <tr>\n",
       "      <th>3</th>\n",
       "      <td>15</td>\n",
       "      <td>6</td>\n",
       "      <td>0</td>\n",
       "      <td>0</td>\n",
       "      <td>0</td>\n",
       "      <td>0</td>\n",
       "      <td>1</td>\n",
       "      <td>1</td>\n",
       "      <td>5</td>\n",
       "      <td>1</td>\n",
       "    </tr>\n",
       "    <tr>\n",
       "      <th>4</th>\n",
       "      <td>7</td>\n",
       "      <td>2</td>\n",
       "      <td>7</td>\n",
       "      <td>0</td>\n",
       "      <td>3</td>\n",
       "      <td>6</td>\n",
       "      <td>0</td>\n",
       "      <td>1</td>\n",
       "      <td>2</td>\n",
       "      <td>0</td>\n",
       "    </tr>\n",
       "    <tr>\n",
       "      <th>5</th>\n",
       "      <td>2</td>\n",
       "      <td>2</td>\n",
       "      <td>12</td>\n",
       "      <td>3</td>\n",
       "      <td>7</td>\n",
       "      <td>1</td>\n",
       "      <td>1</td>\n",
       "      <td>0</td>\n",
       "      <td>4</td>\n",
       "      <td>0</td>\n",
       "    </tr>\n",
       "    <tr>\n",
       "      <th>6</th>\n",
       "      <td>12</td>\n",
       "      <td>1</td>\n",
       "      <td>4</td>\n",
       "      <td>1</td>\n",
       "      <td>12</td>\n",
       "      <td>6</td>\n",
       "      <td>0</td>\n",
       "      <td>0</td>\n",
       "      <td>0</td>\n",
       "      <td>0</td>\n",
       "    </tr>\n",
       "    <tr>\n",
       "      <th>7</th>\n",
       "      <td>8</td>\n",
       "      <td>0</td>\n",
       "      <td>1</td>\n",
       "      <td>3</td>\n",
       "      <td>5</td>\n",
       "      <td>9</td>\n",
       "      <td>0</td>\n",
       "      <td>0</td>\n",
       "      <td>0</td>\n",
       "      <td>0</td>\n",
       "    </tr>\n",
       "    <tr>\n",
       "      <th>8</th>\n",
       "      <td>5</td>\n",
       "      <td>9</td>\n",
       "      <td>2</td>\n",
       "      <td>1</td>\n",
       "      <td>9</td>\n",
       "      <td>0</td>\n",
       "      <td>1</td>\n",
       "      <td>1</td>\n",
       "      <td>1</td>\n",
       "      <td>1</td>\n",
       "    </tr>\n",
       "    <tr>\n",
       "      <th>9</th>\n",
       "      <td>13</td>\n",
       "      <td>5</td>\n",
       "      <td>8</td>\n",
       "      <td>1</td>\n",
       "      <td>11</td>\n",
       "      <td>5</td>\n",
       "      <td>1</td>\n",
       "      <td>2</td>\n",
       "      <td>2</td>\n",
       "      <td>1</td>\n",
       "    </tr>\n",
       "    <tr>\n",
       "      <th>10</th>\n",
       "      <td>0</td>\n",
       "      <td>4</td>\n",
       "      <td>11</td>\n",
       "      <td>1</td>\n",
       "      <td>13</td>\n",
       "      <td>4</td>\n",
       "      <td>1</td>\n",
       "      <td>3</td>\n",
       "      <td>3</td>\n",
       "      <td>1</td>\n",
       "    </tr>\n",
       "    <tr>\n",
       "      <th>11</th>\n",
       "      <td>3</td>\n",
       "      <td>2</td>\n",
       "      <td>9</td>\n",
       "      <td>0</td>\n",
       "      <td>2</td>\n",
       "      <td>10</td>\n",
       "      <td>0</td>\n",
       "      <td>4</td>\n",
       "      <td>0</td>\n",
       "      <td>0</td>\n",
       "    </tr>\n",
       "    <tr>\n",
       "      <th>12</th>\n",
       "      <td>17</td>\n",
       "      <td>0</td>\n",
       "      <td>10</td>\n",
       "      <td>3</td>\n",
       "      <td>5</td>\n",
       "      <td>8</td>\n",
       "      <td>1</td>\n",
       "      <td>0</td>\n",
       "      <td>1</td>\n",
       "      <td>0</td>\n",
       "    </tr>\n",
       "    <tr>\n",
       "      <th>13</th>\n",
       "      <td>10</td>\n",
       "      <td>2</td>\n",
       "      <td>5</td>\n",
       "      <td>1</td>\n",
       "      <td>8</td>\n",
       "      <td>14</td>\n",
       "      <td>1</td>\n",
       "      <td>2</td>\n",
       "      <td>2</td>\n",
       "      <td>0</td>\n",
       "    </tr>\n",
       "    <tr>\n",
       "      <th>14</th>\n",
       "      <td>11</td>\n",
       "      <td>3</td>\n",
       "      <td>17</td>\n",
       "      <td>0</td>\n",
       "      <td>10</td>\n",
       "      <td>11</td>\n",
       "      <td>0</td>\n",
       "      <td>3</td>\n",
       "      <td>0</td>\n",
       "      <td>0</td>\n",
       "    </tr>\n",
       "    <tr>\n",
       "      <th>15</th>\n",
       "      <td>1</td>\n",
       "      <td>2</td>\n",
       "      <td>13</td>\n",
       "      <td>2</td>\n",
       "      <td>14</td>\n",
       "      <td>12</td>\n",
       "      <td>1</td>\n",
       "      <td>2</td>\n",
       "      <td>0</td>\n",
       "      <td>0</td>\n",
       "    </tr>\n",
       "    <tr>\n",
       "      <th>16</th>\n",
       "      <td>4</td>\n",
       "      <td>8</td>\n",
       "      <td>15</td>\n",
       "      <td>1</td>\n",
       "      <td>15</td>\n",
       "      <td>10</td>\n",
       "      <td>1</td>\n",
       "      <td>0</td>\n",
       "      <td>3</td>\n",
       "      <td>1</td>\n",
       "    </tr>\n",
       "    <tr>\n",
       "      <th>17</th>\n",
       "      <td>6</td>\n",
       "      <td>5</td>\n",
       "      <td>0</td>\n",
       "      <td>1</td>\n",
       "      <td>16</td>\n",
       "      <td>0</td>\n",
       "      <td>1</td>\n",
       "      <td>3</td>\n",
       "      <td>1</td>\n",
       "      <td>1</td>\n",
       "    </tr>\n",
       "    <tr>\n",
       "      <th>18</th>\n",
       "      <td>9</td>\n",
       "      <td>6</td>\n",
       "      <td>6</td>\n",
       "      <td>1</td>\n",
       "      <td>1</td>\n",
       "      <td>2</td>\n",
       "      <td>1</td>\n",
       "      <td>1</td>\n",
       "      <td>2</td>\n",
       "      <td>1</td>\n",
       "    </tr>\n",
       "  </tbody>\n",
       "</table>\n",
       "</div>"
      ],
      "text/plain": [
       "    ID_NOM  Niv_Etude_Bac  age  contrat_de_travail  Salaire  dette_anterieure  \\\n",
       "0       18              5   14                   1        7                 7   \n",
       "1       16              7    3                   1        6                 3   \n",
       "2       14              2   16                   1        4                13   \n",
       "3       15              6    0                   0        0                 0   \n",
       "4        7              2    7                   0        3                 6   \n",
       "5        2              2   12                   3        7                 1   \n",
       "6       12              1    4                   1       12                 6   \n",
       "7        8              0    1                   3        5                 9   \n",
       "8        5              9    2                   1        9                 0   \n",
       "9       13              5    8                   1       11                 5   \n",
       "10       0              4   11                   1       13                 4   \n",
       "11       3              2    9                   0        2                10   \n",
       "12      17              0   10                   3        5                 8   \n",
       "13      10              2    5                   1        8                14   \n",
       "14      11              3   17                   0       10                11   \n",
       "15       1              2   13                   2       14                12   \n",
       "16       4              8   15                   1       15                10   \n",
       "17       6              5    0                   1       16                 0   \n",
       "18       9              6    6                   1        1                 2   \n",
       "\n",
       "    etat_civile  apport  enfant_a_Charge  Solvable  \n",
       "0             1       3                3         1  \n",
       "1             1       1                0         1  \n",
       "2             0       0                0         0  \n",
       "3             1       1                5         1  \n",
       "4             0       1                2         0  \n",
       "5             1       0                4         0  \n",
       "6             0       0                0         0  \n",
       "7             0       0                0         0  \n",
       "8             1       1                1         1  \n",
       "9             1       2                2         1  \n",
       "10            1       3                3         1  \n",
       "11            0       4                0         0  \n",
       "12            1       0                1         0  \n",
       "13            1       2                2         0  \n",
       "14            0       3                0         0  \n",
       "15            1       2                0         0  \n",
       "16            1       0                3         1  \n",
       "17            1       3                1         1  \n",
       "18            1       1                2         1  "
      ]
     },
     "execution_count": 16,
     "metadata": {},
     "output_type": "execute_result"
    }
   ],
   "source": [
    "# Encoder les valeurs catégoriques (LabelEncoder)\n",
    "# Catégoriques corresponds aux chaines de caractères [ex: le genre (homme/femme)]\n",
    "\n",
    "from sklearn import preprocessing\n",
    "\n",
    "credit_immo.apply(preprocessing.LabelEncoder().fit_transform)"
   ]
  },
  {
   "cell_type": "code",
   "execution_count": 17,
   "metadata": {},
   "outputs": [
    {
     "data": {
      "text/plain": [
       "[    Niv_Etude_Bac  age contrat_de_travail  Salaire  dette_anterieure  \\\n",
       " 6            -1.0   29                CDI    50000              3000   \n",
       " 4             0.0   33                CDD    27000              3000   \n",
       " 10            2.0   40                CDI    60000              1500   \n",
       " \n",
       "    etat_civile  apport  \n",
       " 6            C     0.0  \n",
       " 4            C     0.1  \n",
       " 10           M     0.3  ,\n",
       "     Niv_Etude_Bac  age contrat_de_travail  Salaire  dette_anterieure  \\\n",
       " 18            4.0   32                CDI    21000              1200   \n",
       " 2             0.0   55                CDI    28000             40000   \n",
       " 5             0.0   41            INTERIM    40000              1000   \n",
       " 3             4.0   23                CDD    15000                 0   \n",
       " 14            1.0   70                CDD    45000             17000   \n",
       " 11            0.0   38                CDD    26000              8000   \n",
       " 8             NaN   26                CDI    44000                 0   \n",
       " 16            8.0   46                CDI    80000              8000   \n",
       " 15            0.0   42        ENTRPRENEUR    70000             26000   \n",
       " 12           -3.0   39            INTERIM    29000              4900   \n",
       " 7            -3.0   24            INTERIM    29000              5000   \n",
       " 17            3.0   23                CDI   100000                 0   \n",
       " 1             5.0   28                CDI    30500              1320   \n",
       " 13            0.0   31                CDI    43000            100000   \n",
       " 0             3.0   45                CDI    40000              4000   \n",
       " 9             3.0   37                CDI    45800              2000   \n",
       " \n",
       "    etat_civile  apport  \n",
       " 18           M     0.1  \n",
       " 2            C     0.0  \n",
       " 5            M     0.0  \n",
       " 3            M     0.1  \n",
       " 14           C     0.3  \n",
       " 11           C     0.4  \n",
       " 8            M     0.1  \n",
       " 16           M     0.0  \n",
       " 15           M     0.2  \n",
       " 12           M     0.0  \n",
       " 7            C     0.0  \n",
       " 17           M     0.3  \n",
       " 1            M     0.1  \n",
       " 13           M     0.2  \n",
       " 0            M     0.3  \n",
       " 9            M     0.2  ,\n",
       " 6     NON\n",
       " 4     NON\n",
       " 10    OUI\n",
       " Name: Solvable, dtype: object,\n",
       " 18    OUI\n",
       " 2     NON\n",
       " 5     NON\n",
       " 3     OUI\n",
       " 14    NON\n",
       " 11    NON\n",
       " 8     OUI\n",
       " 16    OUI\n",
       " 15    NON\n",
       " 12    NON\n",
       " 7     NON\n",
       " 17    OUI\n",
       " 1     OUI\n",
       " 13    NON\n",
       " 0     OUI\n",
       " 9     OUI\n",
       " Name: Solvable, dtype: object]"
      ]
     },
     "execution_count": 17,
     "metadata": {},
     "output_type": "execute_result"
    }
   ],
   "source": [
    "# Fractionner le jeu de données pour l’entrainement et le test (Training and Test set).\n",
    "\n",
    "from sklearn.model_selection import train_test_split\n",
    "\n",
    "#X_train, X_test, y_train, y_test = train_test_split( X, y, test_size=0.33, random_state=42)\n",
    "#Iloc pour éviter de prendre première et dernoère colonne\n",
    "#credit_immo == X (le dataframe), credit-immo[\"Solvable\"] == Y pour les colonnes \n",
    "visuel=train_test_split(credit_immo.iloc[:,1:8],credit_immo[\"Solvable\"], test_size=0.80, train_size=0.20, random_state=None, shuffle=True, stratify=None)\n",
    "\n",
    "visuel\n"
   ]
  },
  {
   "cell_type": "code",
   "execution_count": 18,
   "metadata": {},
   "outputs": [
    {
     "name": "stdout",
     "output_type": "stream",
     "text": [
      "[[ 0.69964472  0.58477783 -0.15939982 -0.34223088  1.24354001  1.32637071]\n",
      " [-0.77738303  1.33663503 -0.61392855 -0.45846885 -0.33161067 -1.06109657]\n",
      " [ 1.56848458 -0.54300798 -0.73354137  1.21917467 -1.11918601 -1.06109657]\n",
      " [-1.21180295  0.96070643 -1.35552804 -0.51572038 -0.33161067  0.        ]\n",
      " [-0.3429631  -0.54300798 -0.7813865  -0.38560325 -0.33161067  0.53054828]\n",
      " [ 0.35210878 -0.54300798 -0.15939982 -0.47234801 -1.11918601  2.12219314]\n",
      " [-0.69049904 -0.91893658  0.31905146 -0.38560325 -1.11918601 -1.06109657]\n",
      " [-1.12491897 -1.67079379 -0.68569624 -0.2988585  -1.11918601 -1.06109657]\n",
      " [-0.951151    0.          0.03198069 -0.51572038 -0.33161067 -0.26527414]\n",
      " [ 0.00457284  0.58477783  0.11810192 -0.42897563  0.45596467  0.53054828]\n",
      " [ 0.2652248   0.20884922  0.79750275 -0.45066182  1.24354001  1.32637071]\n",
      " [ 0.09145683 -0.54300798 -0.82923162 -0.16874137  2.03111535 -1.06109657]\n",
      " [ 0.17834081 -1.67079379 -0.68569624 -0.30319574 -1.11918601 -0.26527414]\n",
      " [-0.51673107 -0.54300798 -0.01586444  3.82151725  0.45596467  0.53054828]\n",
      " [ 2.87174436 -0.16707938  0.07982582  0.22161002  1.24354001 -1.06109657]\n",
      " [ 0.43899277 -0.54300798  1.27595404  0.6119614   0.45596467 -1.06109657]\n",
      " [ 0.78652871  2.46442084  1.75440532 -0.16874137 -1.11918601  1.32637071]\n",
      " [-1.21180295  0.58477783  2.7113079  -0.51572038  1.24354001 -0.26527414]\n",
      " [-0.42984709  0.96070643 -1.06845727 -0.46367353 -0.33161067  0.53054828]]\n"
     ]
    }
   ],
   "source": [
    "#Mise à l’échelle des features (StandardScaler)\n",
    "from sklearn.preprocessing import StandardScaler\n",
    "scaled_features = StandardScaler().fit_transform(credit_immo_V2.values)\n",
    "print(scaled_features)\n"
   ]
  },
  {
   "cell_type": "code",
   "execution_count": 19,
   "metadata": {},
   "outputs": [],
   "source": [
    "#4 - Visualisation de données\n"
   ]
  },
  {
   "cell_type": "code",
   "execution_count": 20,
   "metadata": {},
   "outputs": [
    {
     "name": "stdout",
     "output_type": "stream",
     "text": [
      "    Montant_du_capitale  Temps\n",
      "0                     1      5\n",
      "1                    12      6\n",
      "2                    13      7\n",
      "3                     2      8\n",
      "4                     3      9\n",
      "5                     0     10\n",
      "6                     1     11\n",
      "7                     6     12\n",
      "8                     7     13\n",
      "9                     4     14\n",
      "10                    5     15\n",
      "11                   26     16\n",
      "12                   27     17\n",
      "13                   24     18\n",
      "14                   25     19\n",
      "15                   30     20\n",
      "16                   31     21\n",
      "17                   28     22\n",
      "18                   29     23\n",
      "19                   18     24\n",
      "20                   19     25\n",
      "21                   16     26\n",
      "22                   17     27\n",
      "23                   22     28\n",
      "24                   23     29\n",
      "25                   20     30\n",
      "26                   21     31\n",
      "27                   42     32\n",
      "28                   43     33\n",
      "29                   40     34\n",
      "30                   41     35\n",
      "31                   46     36\n",
      "32                   47     37\n",
      "33                   44     38\n",
      "34                   45     39\n",
      "35                   34     40\n",
      "36                   35     41\n",
      "37                   32     42\n",
      "38                   33     43\n",
      "39                   38     44\n",
      "40                   39     45\n",
      "41                   36     46\n",
      "42                   37     47\n",
      "43                   58     48\n",
      "44                   59     49\n"
     ]
    }
   ],
   "source": [
    "montant_temps=pandas.read_csv(\"Montant_Temps.csv\")\n",
    "print(montant_temps)"
   ]
  },
  {
   "cell_type": "code",
   "execution_count": 23,
   "metadata": {},
   "outputs": [
    {
     "data": {
      "image/png": "[encoded data removed]",
      "text/plain": [
       "<Figure size 432x288 with 1 Axes>"
      ]
     },
     "metadata": {
      "needs_background": "light"
     },
     "output_type": "display_data"
    }
   ],
   "source": [
    "montant_temps = pandas.read_csv('Montant_Temps.csv')\n",
    "#print(df)\n",
    "\n",
    "\n",
    "montant_temps.plot(x=\"Temps\", y = \"Montant_du_capitale\")\n",
    "\n",
    "plt.show()"
   ]
  },
  {
   "cell_type": "code",
   "execution_count": null,
   "metadata": {},
   "outputs": [],
   "source": [
    "# 4.1 - Rajoutez du style à vos graphiques"
   ]
  },
  {
   "cell_type": "code",
   "execution_count": 25,
   "metadata": {},
   "outputs": [
    {
     "data": {
      "image/png": "[encoded data removed]",
      "text/plain": [
       "<Figure size 432x288 with 1 Axes>"
      ]
     },
     "metadata": {
      "needs_background": "light"
     },
     "output_type": "display_data"
    }
   ],
   "source": [
    "montant_temps.plot.hist()\n",
    "plt.show()"
   ]
  },
  {
   "cell_type": "code",
   "execution_count": 27,
   "metadata": {},
   "outputs": [
    {
     "data": {
      "text/plain": [
       "<AxesSubplot:>"
      ]
     },
     "execution_count": 27,
     "metadata": {},
     "output_type": "execute_result"
    },
    {
     "data": {
      "image/png": "[encoded data removed]",
      "text/plain": [
       "<Figure size 432x288 with 1 Axes>"
      ]
     },
     "metadata": {
      "needs_background": "light"
     },
     "output_type": "display_data"
    }
   ],
   "source": [
    "montant_temps.Montant_du_capitale.hist()"
   ]
  },
  {
   "cell_type": "code",
   "execution_count": 30,
   "metadata": {},
   "outputs": [
    {
     "data": {
      "text/plain": [
       "<AxesSubplot:>"
      ]
     },
     "execution_count": 30,
     "metadata": {},
     "output_type": "execute_result"
    },
    {
     "data": {
      "image/png": "[encoded data removed]",
      "text/plain": [
       "<Figure size 432x288 with 1 Axes>"
      ]
     },
     "metadata": {
      "needs_background": "light"
     },
     "output_type": "display_data"
    }
   ],
   "source": [
    "montant_temps.Montant_du_capitale.hist(bins = 5)"
   ]
  },
  {
   "cell_type": "code",
   "execution_count": 31,
   "metadata": {},
   "outputs": [
    {
     "data": {
      "text/plain": [
       "<AxesSubplot:>"
      ]
     },
     "execution_count": 31,
     "metadata": {},
     "output_type": "execute_result"
    },
    {
     "data": {
      "image/png": "[encoded data removed]",
      "text/plain": [
       "<Figure size 432x288 with 1 Axes>"
      ]
     },
     "metadata": {
      "needs_background": "light"
     },
     "output_type": "display_data"
    }
   ],
   "source": [
    "montant_temps.boxplot()"
   ]
  },
  {
   "cell_type": "code",
   "execution_count": 64,
   "metadata": {},
   "outputs": [
    {
     "data": {
      "image/png": "[encoded data removed]",
      "text/plain": [
       "<Figure size 432x288 with 1 Axes>"
      ]
     },
     "metadata": {
      "needs_background": "light"
     },
     "output_type": "display_data"
    }
   ],
   "source": [
    "#4.2 - Visualisation de données sous forme de nuage de points\n",
    "x=montant_temps['Temps']\n",
    "y=montant_temps['Montant_du_capitale']\n",
    "\n",
    "plt.scatter(x,y)\n",
    "plt.title('Nuage de points')\n",
    "plt.xlabel('Temps')\n",
    "plt.ylabel('Montant du capital')\n",
    "\n",
    "plt.show()\n",
    "\n",
    "# Autre version: \n",
    "#montant_temps.plot.scatter(\"Temps\", \"Montant_du_capitale\")"
   ]
  },
  {
   "cell_type": "code",
   "execution_count": 51,
   "metadata": {},
   "outputs": [
    {
     "name": "stdout",
     "output_type": "stream",
     "text": [
      "           Nom  Age  Rating\n",
      "0      ANATOLE   55    4.53\n",
      "1     Vincent    59    3.54\n",
      "2      Brenda    55    3.98\n",
      "3    Philippe    53    5.59\n",
      "4      Michel    30    3.50\n",
      "5     Tillier    59    4.90\n",
      "6   Blanchard    53    3.80\n",
      "7        perez   34    3.78\n",
      "8        théo    40    5.98\n",
      "9     cyprien    30    4.80\n",
      "10   manuella    53    4.30\n",
      "11   LEGGERET    49    3.95\n",
      "12       perez   34    3.78\n",
      "13    sestre     40    5.98\n",
      "14      Fazal    30    4.80\n",
      "15      Donald   53    4.30\n",
      "16     Estelle   49    3.95\n"
     ]
    }
   ],
   "source": [
    "#5 - Analyse de données\n",
    "\n",
    "tendance = pandas.read_csv('tendance_centrale.csv')\n",
    "print(tendance)"
   ]
  },
  {
   "cell_type": "code",
   "execution_count": 60,
   "metadata": {},
   "outputs": [
    {
     "data": {
      "text/html": [
       "<div>\n",
       "<style scoped>\n",
       "    .dataframe tbody tr th:only-of-type {\n",
       "        vertical-align: middle;\n",
       "    }\n",
       "\n",
       "    .dataframe tbody tr th {\n",
       "        vertical-align: top;\n",
       "    }\n",
       "\n",
       "    .dataframe thead th {\n",
       "        text-align: right;\n",
       "    }\n",
       "</style>\n",
       "<table border=\"1\" class=\"dataframe\">\n",
       "  <thead>\n",
       "    <tr style=\"text-align: right;\">\n",
       "      <th></th>\n",
       "      <th>Age</th>\n",
       "      <th>Rating</th>\n",
       "    </tr>\n",
       "  </thead>\n",
       "  <tbody>\n",
       "    <tr>\n",
       "      <th>count</th>\n",
       "      <td>17.000000</td>\n",
       "      <td>17.000000</td>\n",
       "    </tr>\n",
       "    <tr>\n",
       "      <th>mean</th>\n",
       "      <td>45.647059</td>\n",
       "      <td>4.438824</td>\n",
       "    </tr>\n",
       "    <tr>\n",
       "      <th>std</th>\n",
       "      <td>10.723462</td>\n",
       "      <td>0.800390</td>\n",
       "    </tr>\n",
       "    <tr>\n",
       "      <th>min</th>\n",
       "      <td>30.000000</td>\n",
       "      <td>3.500000</td>\n",
       "    </tr>\n",
       "    <tr>\n",
       "      <th>25%</th>\n",
       "      <td>34.000000</td>\n",
       "      <td>3.800000</td>\n",
       "    </tr>\n",
       "    <tr>\n",
       "      <th>50%</th>\n",
       "      <td>49.000000</td>\n",
       "      <td>4.300000</td>\n",
       "    </tr>\n",
       "    <tr>\n",
       "      <th>75%</th>\n",
       "      <td>53.000000</td>\n",
       "      <td>4.800000</td>\n",
       "    </tr>\n",
       "    <tr>\n",
       "      <th>max</th>\n",
       "      <td>59.000000</td>\n",
       "      <td>5.980000</td>\n",
       "    </tr>\n",
       "  </tbody>\n",
       "</table>\n",
       "</div>"
      ],
      "text/plain": [
       "             Age     Rating\n",
       "count  17.000000  17.000000\n",
       "mean   45.647059   4.438824\n",
       "std    10.723462   0.800390\n",
       "min    30.000000   3.500000\n",
       "25%    34.000000   3.800000\n",
       "50%    49.000000   4.300000\n",
       "75%    53.000000   4.800000\n",
       "max    59.000000   5.980000"
      ]
     },
     "execution_count": 60,
     "metadata": {},
     "output_type": "execute_result"
    }
   ],
   "source": [
    "tendance.describe()"
   ]
  },
  {
   "cell_type": "code",
   "execution_count": 62,
   "metadata": {},
   "outputs": [
    {
     "data": {
      "image/png": "[encoded data removed]",
      "text/plain": [
       "<Figure size 432x288 with 1 Axes>"
      ]
     },
     "metadata": {
      "needs_background": "light"
     },
     "output_type": "display_data"
    }
   ],
   "source": [
    "#5.1 - Mesure de tendance centrale = ( Moyenne arithmétique / Médiane / Mode (valeur qui apparait le + souvent))\n",
    "# https://moonbooks.org/Articles/Tracer-une-distribution-gaussienne-avec-matplotlib/\n",
    "\n",
    "x_min = 0.0\n",
    "x_max = 100.0\n",
    "\n",
    "mean = tendance['Age'].mean()\n",
    "std = tendance['Age'].std()\n",
    "\n",
    "x = numpy.linspace(x_min, x_max, 100)\n",
    "\n",
    "y = scipy.stats.norm.pdf(x,mean,std)\n",
    "\n",
    "plt.plot(x,y, color='coral')\n",
    "\n",
    "plt.grid()\n",
    "\n",
    "plt.xlim(x_min,x_max)\n",
    "plt.ylim(0,0.05)\n",
    "\n",
    "plt.xlabel('x')\n",
    "plt.ylabel('Normal Distribution')\n",
    "\n",
    "\n",
    "\n",
    "plt.show()"
   ]
  },
  {
   "cell_type": "code",
   "execution_count": 67,
   "metadata": {},
   "outputs": [
    {
     "data": {
      "text/plain": [
       "<AxesSubplot:>"
      ]
     },
     "execution_count": 67,
     "metadata": {},
     "output_type": "execute_result"
    },
    {
     "data": {
      "image/png": "[encoded data removed]",
      "text/plain": [
       "<Figure size 432x288 with 1 Axes>"
      ]
     },
     "metadata": {
      "needs_background": "light"
     },
     "output_type": "display_data"
    }
   ],
   "source": [
    "# 5.2 - Analyse de la variance\n",
    "\n",
    "montant_temps.boxplot()"
   ]
  },
  {
   "cell_type": "code",
   "execution_count": 68,
   "metadata": {},
   "outputs": [
    {
     "data": {
      "text/plain": [
       "Montant_du_capitale    247.481818\n",
       "Temps                  172.500000\n",
       "dtype: float64"
      ]
     },
     "execution_count": 68,
     "metadata": {},
     "output_type": "execute_result"
    }
   ],
   "source": [
    "#Variance\n",
    "montant_temps.var()"
   ]
  },
  {
   "cell_type": "code",
   "execution_count": 73,
   "metadata": {},
   "outputs": [
    {
     "name": "stdout",
     "output_type": "stream",
     "text": [
      "Montant_du_capitale    15.555778\n",
      "Temps                  12.987173\n",
      "dtype: float64\n"
     ]
    }
   ],
   "source": [
    "# Ecart-type\n",
    "standard_deviation=numpy.std(montant_temps)\n",
    "print(standard_deviation)"
   ]
  },
  {
   "cell_type": "code",
   "execution_count": 74,
   "metadata": {},
   "outputs": [
    {
     "name": "stdout",
     "output_type": "stream",
     "text": [
      "     longueur_sepal  largeur_sepal  longueur_petal  largeur_petal     espece\n",
      "0               5.1            3.5             1.4            0.2     setosa\n",
      "1               4.9            3.0             1.4            0.2     setosa\n",
      "2               4.7            3.2             1.3            0.2     setosa\n",
      "3               4.6            3.1             1.5            0.2     setosa\n",
      "4               5.0            3.6             1.4            0.2     setosa\n",
      "..              ...            ...             ...            ...        ...\n",
      "145             6.7            3.0             5.2            2.3  virginica\n",
      "146             6.3            2.5             5.0            1.9  virginica\n",
      "147             6.5            3.0             5.2            2.0  virginica\n",
      "148             6.2            3.4             5.4            2.3  virginica\n",
      "149             5.9            3.0             5.1            1.8  virginica\n",
      "\n",
      "[150 rows x 5 columns]\n"
     ]
    }
   ],
   "source": [
    "#5.3 - Analyse de corrélations\n",
    "\n",
    "iris = pandas.read_csv('iris.csv')\n",
    "print(iris)"
   ]
  },
  {
   "cell_type": "code",
   "execution_count": 76,
   "metadata": {},
   "outputs": [
    {
     "data": {
      "text/html": [
       "<div>\n",
       "<style scoped>\n",
       "    .dataframe tbody tr th:only-of-type {\n",
       "        vertical-align: middle;\n",
       "    }\n",
       "\n",
       "    .dataframe tbody tr th {\n",
       "        vertical-align: top;\n",
       "    }\n",
       "\n",
       "    .dataframe thead th {\n",
       "        text-align: right;\n",
       "    }\n",
       "</style>\n",
       "<table border=\"1\" class=\"dataframe\">\n",
       "  <thead>\n",
       "    <tr style=\"text-align: right;\">\n",
       "      <th></th>\n",
       "      <th>longueur_sepal</th>\n",
       "      <th>largeur_sepal</th>\n",
       "      <th>longueur_petal</th>\n",
       "      <th>largeur_petal</th>\n",
       "    </tr>\n",
       "  </thead>\n",
       "  <tbody>\n",
       "    <tr>\n",
       "      <th>longueur_sepal</th>\n",
       "      <td>1.000000</td>\n",
       "      <td>-0.117570</td>\n",
       "      <td>0.871754</td>\n",
       "      <td>0.817941</td>\n",
       "    </tr>\n",
       "    <tr>\n",
       "      <th>largeur_sepal</th>\n",
       "      <td>-0.117570</td>\n",
       "      <td>1.000000</td>\n",
       "      <td>-0.428440</td>\n",
       "      <td>-0.366126</td>\n",
       "    </tr>\n",
       "    <tr>\n",
       "      <th>longueur_petal</th>\n",
       "      <td>0.871754</td>\n",
       "      <td>-0.428440</td>\n",
       "      <td>1.000000</td>\n",
       "      <td>0.962865</td>\n",
       "    </tr>\n",
       "    <tr>\n",
       "      <th>largeur_petal</th>\n",
       "      <td>0.817941</td>\n",
       "      <td>-0.366126</td>\n",
       "      <td>0.962865</td>\n",
       "      <td>1.000000</td>\n",
       "    </tr>\n",
       "  </tbody>\n",
       "</table>\n",
       "</div>"
      ],
      "text/plain": [
       "                longueur_sepal  largeur_sepal  longueur_petal  largeur_petal\n",
       "longueur_sepal        1.000000      -0.117570        0.871754       0.817941\n",
       "largeur_sepal        -0.117570       1.000000       -0.428440      -0.366126\n",
       "longueur_petal        0.871754      -0.428440        1.000000       0.962865\n",
       "largeur_petal         0.817941      -0.366126        0.962865       1.000000"
      ]
     },
     "execution_count": 76,
     "metadata": {},
     "output_type": "execute_result"
    }
   ],
   "source": [
    "# Corrélation\n",
    "\n",
    "iris.corr()\n",
    "\n",
    "#Corrélation entre longueur_sepal / longueur_petal et largeur_petal\n",
    "# + le sepale sera grand (long), + les pétales seront grandes (longues)"
   ]
  },
  {
   "cell_type": "code",
   "execution_count": 80,
   "metadata": {},
   "outputs": [
    {
     "data": {
      "text/plain": [
       "array(['setosa', 'versicolor', 'virginica'], dtype=object)"
      ]
     },
     "execution_count": 80,
     "metadata": {},
     "output_type": "execute_result"
    }
   ],
   "source": [
    "iris.espece.unique()"
   ]
  },
  {
   "cell_type": "code",
   "execution_count": 81,
   "metadata": {},
   "outputs": [
    {
     "data": {
      "text/plain": [
       "0.8717537758865833"
      ]
     },
     "execution_count": 81,
     "metadata": {},
     "output_type": "execute_result"
    }
   ],
   "source": [
    "# Corrélation entre 2 variables\n",
    "iris.longueur_sepal.corr(iris.longueur_petal)"
   ]
  },
  {
   "cell_type": "code",
   "execution_count": 82,
   "metadata": {},
   "outputs": [
    {
     "data": {
      "text/plain": [
       "<AxesSubplot:xlabel='longueur_sepal', ylabel='longueur_petal'>"
      ]
     },
     "execution_count": 82,
     "metadata": {},
     "output_type": "execute_result"
    },
    {
     "data": {
      "image/png": "[encoded data removed]",
      "text/plain": [
       "<Figure size 432x288 with 1 Axes>"
      ]
     },
     "metadata": {
      "needs_background": "light"
     },
     "output_type": "display_data"
    }
   ],
   "source": [
    "# 5.3.2 - Analyse graphique \n",
    "\n",
    "iris.plot.scatter(\"longueur_sepal\", \"longueur_petal\")\n",
    "\n",
    "# relation linéaire car Y = aX + b (proche d'une droite) et est par définition monotone\n",
    "# liaison positive\n",
    "# la relation est forte car X et Y ont des valeurs voisines"
   ]
  },
  {
   "cell_type": "code",
   "execution_count": 83,
   "metadata": {},
   "outputs": [
    {
     "data": {
      "text/plain": [
       "<AxesSubplot:xlabel='longueur_sepal', ylabel='largeur_petal'>"
      ]
     },
     "execution_count": 83,
     "metadata": {},
     "output_type": "execute_result"
    },
    {
     "data": {
      "image/png": "[encoded data removed]",
      "text/plain": [
       "<Figure size 432x288 with 1 Axes>"
      ]
     },
     "metadata": {
      "needs_background": "light"
     },
     "output_type": "display_data"
    }
   ],
   "source": [
    "iris.plot.scatter(\"longueur_sepal\", \"largeur_petal\")"
   ]
  },
  {
   "cell_type": "code",
   "execution_count": 87,
   "metadata": {},
   "outputs": [
    {
     "data": {
      "text/html": [
       "<div>\n",
       "<style scoped>\n",
       "    .dataframe tbody tr th:only-of-type {\n",
       "        vertical-align: middle;\n",
       "    }\n",
       "\n",
       "    .dataframe tbody tr th {\n",
       "        vertical-align: top;\n",
       "    }\n",
       "\n",
       "    .dataframe thead th {\n",
       "        text-align: right;\n",
       "    }\n",
       "</style>\n",
       "<table border=\"1\" class=\"dataframe\">\n",
       "  <thead>\n",
       "    <tr style=\"text-align: right;\">\n",
       "      <th></th>\n",
       "      <th>Resultat</th>\n",
       "    </tr>\n",
       "  </thead>\n",
       "  <tbody>\n",
       "    <tr>\n",
       "      <th>Pearson_coef</th>\n",
       "      <td>8.717538e-01</td>\n",
       "    </tr>\n",
       "    <tr>\n",
       "      <th>p_value</th>\n",
       "      <td>1.038667e-47</td>\n",
       "    </tr>\n",
       "  </tbody>\n",
       "</table>\n",
       "</div>"
      ],
      "text/plain": [
       "                  Resultat\n",
       "Pearson_coef  8.717538e-01\n",
       "p_value       1.038667e-47"
      ]
     },
     "execution_count": 87,
     "metadata": {},
     "output_type": "execute_result"
    }
   ],
   "source": [
    "#5.3.3 - Analyse mathématique \n",
    "\n",
    "# test de corrélation de Pearson\n",
    "\n",
    "from scipy.stats import pearsonr\n",
    "\n",
    "pandas.DataFrame(pearsonr(iris['longueur_sepal'], iris['longueur_petal']),\n",
    "                index = ['Pearson_coef', 'p_value'],\n",
    "                columns = ['Resultat'])\n",
    "\n",
    "# Le coefficient de Pearson permet de mesurer le niveau de corrélation entre les 2 variables (résultat entre -1 et 1)\n",
    "# Pearson_coef étant proche de 1, les variables sont corrélées. \n",
    "# Si Pearson_coef proche de 0 = décorrélées; Si Pearson_coef proche de -1 : corrélées négativement\n",
    "\n",
    "# p_value étant inférieur à 5%: on en déduit que les variables ne sont pas indépendantes"
   ]
  },
  {
   "cell_type": "code",
   "execution_count": 92,
   "metadata": {},
   "outputs": [
    {
     "data": {
      "text/html": [
       "<div>\n",
       "<style scoped>\n",
       "    .dataframe tbody tr th:only-of-type {\n",
       "        vertical-align: middle;\n",
       "    }\n",
       "\n",
       "    .dataframe tbody tr th {\n",
       "        vertical-align: top;\n",
       "    }\n",
       "\n",
       "    .dataframe thead th {\n",
       "        text-align: right;\n",
       "    }\n",
       "</style>\n",
       "<table border=\"1\" class=\"dataframe\">\n",
       "  <thead>\n",
       "    <tr style=\"text-align: right;\">\n",
       "      <th></th>\n",
       "      <th>Resultat</th>\n",
       "    </tr>\n",
       "  </thead>\n",
       "  <tbody>\n",
       "    <tr>\n",
       "      <th>Pearson_coef</th>\n",
       "      <td>8.179411e-01</td>\n",
       "    </tr>\n",
       "    <tr>\n",
       "      <th>p_value</th>\n",
       "      <td>2.325498e-37</td>\n",
       "    </tr>\n",
       "  </tbody>\n",
       "</table>\n",
       "</div>"
      ],
      "text/plain": [
       "                  Resultat\n",
       "Pearson_coef  8.179411e-01\n",
       "p_value       2.325498e-37"
      ]
     },
     "execution_count": 92,
     "metadata": {},
     "output_type": "execute_result"
    }
   ],
   "source": [
    "pandas.DataFrame(pearsonr(iris['longueur_sepal'], iris['largeur_petal']),\n",
    "                index = ['Pearson_coef', 'p_value'],\n",
    "                columns = ['Resultat'])"
   ]
  },
  {
   "cell_type": "code",
   "execution_count": null,
   "metadata": {},
   "outputs": [],
   "source": []
  }
 ],
 "metadata": {
  "kernelspec": {
   "display_name": "Python 3 (ipykernel)",
   "language": "python",
   "name": "python3"
  },
  "language_info": {
   "codemirror_mode": {
    "name": "ipython",
    "version": 3
   },
   "file_extension": ".py",
   "mimetype": "text/x-python",
   "name": "python",
   "nbconvert_exporter": "python",
   "pygments_lexer": "ipython3",
   "version": "3.9.7"
  }
 },
 "nbformat": 4,
 "nbformat_minor": 4
}
